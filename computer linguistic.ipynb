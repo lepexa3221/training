{
 "cells": [
  {
   "cell_type": "markdown",
   "metadata": {},
   "source": []
  },
  {
   "cell_type": "code",
   "execution_count": 1,
   "metadata": {},
   "outputs": [
    {
     "data": {
      "text/html": [
       "<style  type=\"text/css\" >\n",
       "#T_4129ae05_97c5_11eb_a86b_7085c2764c67row0_col0,#T_4129ae05_97c5_11eb_a86b_7085c2764c67row0_col1,#T_4129ae05_97c5_11eb_a86b_7085c2764c67row1_col0,#T_4129ae05_97c5_11eb_a86b_7085c2764c67row1_col1,#T_4129ae05_97c5_11eb_a86b_7085c2764c67row2_col0,#T_4129ae05_97c5_11eb_a86b_7085c2764c67row2_col1,#T_4129ae05_97c5_11eb_a86b_7085c2764c67row3_col0,#T_4129ae05_97c5_11eb_a86b_7085c2764c67row3_col1,#T_4129ae05_97c5_11eb_a86b_7085c2764c67row4_col0,#T_4129ae05_97c5_11eb_a86b_7085c2764c67row4_col1{\n",
       "            text-align:  left;\n",
       "        }</style><table id=\"T_4129ae05_97c5_11eb_a86b_7085c2764c67\" ><thead>    <tr>        <th class=\"blank level0\" ></th>        <th class=\"col_heading level0 col0\" >0</th>        <th class=\"col_heading level0 col1\" >1</th>    </tr></thead><tbody>\n",
       "                <tr>\n",
       "                        <th id=\"T_4129ae05_97c5_11eb_a86b_7085c2764c67level0_row0\" class=\"row_heading level0 row0\" >0</th>\n",
       "                        <td id=\"T_4129ae05_97c5_11eb_a86b_7085c2764c67row0_col0\" class=\"data row0 col0\" >МАТЕМАТИКА</td>\n",
       "                        <td id=\"T_4129ae05_97c5_11eb_a86b_7085c2764c67row0_col1\" class=\"data row0 col1\" >Алгоритм размещения элементов СБИС. </td>\n",
       "            </tr>\n",
       "            <tr>\n",
       "                        <th id=\"T_4129ae05_97c5_11eb_a86b_7085c2764c67level0_row1\" class=\"row_heading level0 row1\" >1</th>\n",
       "                        <td id=\"T_4129ae05_97c5_11eb_a86b_7085c2764c67row1_col0\" class=\"data row1 col0\" >БИОЛОГИЯ</td>\n",
       "                        <td id=\"T_4129ae05_97c5_11eb_a86b_7085c2764c67row1_col1\" class=\"data row1 col1\" >Восстановительное природопользование основа устойчивого развития. </td>\n",
       "            </tr>\n",
       "            <tr>\n",
       "                        <th id=\"T_4129ae05_97c5_11eb_a86b_7085c2764c67level0_row2\" class=\"row_heading level0 row2\" >2</th>\n",
       "                        <td id=\"T_4129ae05_97c5_11eb_a86b_7085c2764c67row2_col0\" class=\"data row2 col0\" >БИОЛОГИЯ</td>\n",
       "                        <td id=\"T_4129ae05_97c5_11eb_a86b_7085c2764c67row2_col1\" class=\"data row2 col1\" >Культура зародышей Paeonia anomala L.</td>\n",
       "            </tr>\n",
       "            <tr>\n",
       "                        <th id=\"T_4129ae05_97c5_11eb_a86b_7085c2764c67level0_row3\" class=\"row_heading level0 row3\" >3</th>\n",
       "                        <td id=\"T_4129ae05_97c5_11eb_a86b_7085c2764c67row3_col0\" class=\"data row3 col0\" >ГЕОЛОГИЯ</td>\n",
       "                        <td id=\"T_4129ae05_97c5_11eb_a86b_7085c2764c67row3_col1\" class=\"data row3 col1\" >Экологический мониторинг загазованных донных осадков. </td>\n",
       "            </tr>\n",
       "            <tr>\n",
       "                        <th id=\"T_4129ae05_97c5_11eb_a86b_7085c2764c67level0_row4\" class=\"row_heading level0 row4\" >4</th>\n",
       "                        <td id=\"T_4129ae05_97c5_11eb_a86b_7085c2764c67row4_col0\" class=\"data row4 col0\" >БИОЛОГИЯ</td>\n",
       "                        <td id=\"T_4129ae05_97c5_11eb_a86b_7085c2764c67row4_col1\" class=\"data row4 col1\" >Ультразвуковые методы определения газонасыщения биологических объектов.</td>\n",
       "            </tr>\n",
       "    </tbody></table>"
      ],
      "text/plain": [
       "<pandas.io.formats.style.Styler at 0x2bbc8a79100>"
      ]
     },
     "execution_count": 1,
     "metadata": {},
     "output_type": "execute_result"
    }
   ],
   "source": [
    "import pandas as pd\n",
    "corpus_classification = pd.read_csv('ru_subject_domain_classification.corpus', \n",
    "                          sep='\\t', header=None)\n",
    "corpus_table = corpus_classification.head(5).style.set_properties(**{'text-align': 'left'})    \n",
    "corpus_table"
   ]
  },
  {
   "cell_type": "code",
   "execution_count": 2,
   "metadata": {},
   "outputs": [
    {
     "name": "stdout",
     "output_type": "stream",
     "text": [
      "БИОЛОГИЯ      1031\n",
      "ГЕОЛОГИЯ       977\n",
      "МАТЕМАТИКА     670\n",
      "Name: label, dtype: int64\n"
     ]
    }
   ],
   "source": [
    "corpus_classification.rename({0:'label', 1:'x'}, axis=1, inplace=True)\n",
    "print(corpus_classification.label.value_counts())"
   ]
  },
  {
   "cell_type": "code",
   "execution_count": 3,
   "metadata": {},
   "outputs": [
    {
     "data": {
      "text/html": [
       "<style  type=\"text/css\" >\n",
       "#T_4138c934_97c5_11eb_b130_7085c2764c67row0_col0,#T_4138c934_97c5_11eb_b130_7085c2764c67row0_col1,#T_4138c934_97c5_11eb_b130_7085c2764c67row1_col0,#T_4138c934_97c5_11eb_b130_7085c2764c67row1_col1,#T_4138c934_97c5_11eb_b130_7085c2764c67row2_col0,#T_4138c934_97c5_11eb_b130_7085c2764c67row2_col1,#T_4138c934_97c5_11eb_b130_7085c2764c67row3_col0,#T_4138c934_97c5_11eb_b130_7085c2764c67row3_col1,#T_4138c934_97c5_11eb_b130_7085c2764c67row4_col0,#T_4138c934_97c5_11eb_b130_7085c2764c67row4_col1{\n",
       "            text-align:  left;\n",
       "        }</style><table id=\"T_4138c934_97c5_11eb_b130_7085c2764c67\" ><thead>    <tr>        <th class=\"blank level0\" ></th>        <th class=\"col_heading level0 col0\" >label</th>        <th class=\"col_heading level0 col1\" >x</th>    </tr></thead><tbody>\n",
       "                <tr>\n",
       "                        <th id=\"T_4138c934_97c5_11eb_b130_7085c2764c67level0_row0\" class=\"row_heading level0 row0\" >0</th>\n",
       "                        <td id=\"T_4138c934_97c5_11eb_b130_7085c2764c67row0_col0\" class=\"data row0 col0\" >МАТЕМАТИКА</td>\n",
       "                        <td id=\"T_4138c934_97c5_11eb_b130_7085c2764c67row0_col1\" class=\"data row0 col1\" >Алгоритм размещения элементов СБИС. </td>\n",
       "            </tr>\n",
       "            <tr>\n",
       "                        <th id=\"T_4138c934_97c5_11eb_b130_7085c2764c67level0_row1\" class=\"row_heading level0 row1\" >1</th>\n",
       "                        <td id=\"T_4138c934_97c5_11eb_b130_7085c2764c67row1_col0\" class=\"data row1 col0\" >БИОЛОГИЯ</td>\n",
       "                        <td id=\"T_4138c934_97c5_11eb_b130_7085c2764c67row1_col1\" class=\"data row1 col1\" >Восстановительное природопользование основа устойчивого развития. </td>\n",
       "            </tr>\n",
       "            <tr>\n",
       "                        <th id=\"T_4138c934_97c5_11eb_b130_7085c2764c67level0_row2\" class=\"row_heading level0 row2\" >2</th>\n",
       "                        <td id=\"T_4138c934_97c5_11eb_b130_7085c2764c67row2_col0\" class=\"data row2 col0\" >БИОЛОГИЯ</td>\n",
       "                        <td id=\"T_4138c934_97c5_11eb_b130_7085c2764c67row2_col1\" class=\"data row2 col1\" >Культура зародышей Paeonia anomala L.</td>\n",
       "            </tr>\n",
       "            <tr>\n",
       "                        <th id=\"T_4138c934_97c5_11eb_b130_7085c2764c67level0_row3\" class=\"row_heading level0 row3\" >3</th>\n",
       "                        <td id=\"T_4138c934_97c5_11eb_b130_7085c2764c67row3_col0\" class=\"data row3 col0\" >ГЕОЛОГИЯ</td>\n",
       "                        <td id=\"T_4138c934_97c5_11eb_b130_7085c2764c67row3_col1\" class=\"data row3 col1\" >Экологический мониторинг загазованных донных осадков. </td>\n",
       "            </tr>\n",
       "            <tr>\n",
       "                        <th id=\"T_4138c934_97c5_11eb_b130_7085c2764c67level0_row4\" class=\"row_heading level0 row4\" >4</th>\n",
       "                        <td id=\"T_4138c934_97c5_11eb_b130_7085c2764c67row4_col0\" class=\"data row4 col0\" >БИОЛОГИЯ</td>\n",
       "                        <td id=\"T_4138c934_97c5_11eb_b130_7085c2764c67row4_col1\" class=\"data row4 col1\" >Ультразвуковые методы определения газонасыщения биологических объектов.</td>\n",
       "            </tr>\n",
       "    </tbody></table>"
      ],
      "text/plain": [
       "<pandas.io.formats.style.Styler at 0x2bbcbac45b0>"
      ]
     },
     "execution_count": 3,
     "metadata": {},
     "output_type": "execute_result"
    }
   ],
   "source": [
    "corpus_table = corpus_classification.head(5).style.set_properties(**{'text-align': 'left'}) \n",
    "corpus_table"
   ]
  },
  {
   "cell_type": "code",
   "execution_count": 4,
   "metadata": {},
   "outputs": [],
   "source": [
    "'''\n",
    "from nltk.corpus import stopwords\n",
    "from nltk.stem.snowball import SnowballStemmer\n",
    "import re\n",
    "from time import time\n",
    "tic = time()\n",
    "stemmer = SnowballStemmer(\"russian\")\n",
    "#print(preprocess_data(sent))\n",
    "def preprocess_data(sent):\n",
    "    #remove URLS\n",
    "    sent = re.sub('((www\\.[^\\s]+)|(https?://[^\\s]+))','', sent)\n",
    "    sent = re.sub('@[^\\s]+','', sent) #remove Users\n",
    "    #smiles processing\n",
    "    sent = re.sub('[:;^8=]{1}-?[)PD8o]+', 'positive_smile', sent)\n",
    "    sent = re.sub('[:;^8=]{1}-?[(/|]+', 'negative_smile', sent)\n",
    "    sent = sent.strip() # удаление пробелов по бокам\n",
    "    sent = sent.lower() # lower-case\n",
    "    sent = re.sub('[0-9]+', '', sent) # удаление цифр\n",
    "     # удаление одноcимвольных токенов\n",
    "    sent = re.sub(r'\\b\\w\\b', '', sent)\n",
    "    #удаление пунктуации\n",
    "    sent = re.sub('[^A-Za-zА-Яа-я_\\s]+', '', sent)\n",
    "    # удаление стоп-слов\n",
    "    sent = [x for x in sent.split() \n",
    "            if x not in stopwords.words('russian')]\n",
    "    sent = [stemmer.stem(x) for x in sent] # cтемминг\n",
    "    sent = ' '.join(sent) # cоединяем элементы списка\n",
    "    toc = time()\n",
    "    print(toc - tic)\n",
    "    return sent\n",
    "'''\n",
    "import re\n",
    "import pymorphy2\n",
    "from nltk.corpus import stopwords\n",
    "pattern = \"[0-9!#$%&'()*+,./:;<=>?@[\\]^_`{|}~—\\\"\\-]+\"\n",
    "stopwords_ru = stopwords.words(\"russian\")\n",
    "morph = pymorphy2.MorphAnalyzer()\n",
    "def preprocess_data(msg):\n",
    "    msg = re.sub(pattern, ' ', msg)\n",
    "    tokens = []\n",
    "    for token in msg.split():\n",
    "        if token and token not in stopwords_ru:\n",
    "            token = token.strip()\n",
    "            token = morph.normal_forms(token)[0]\n",
    "            tokens.append(token)\n",
    "    if len(tokens) > 2:\n",
    "        tokens = ' '.join(tokens) # cоединяем элементы списка\n",
    "        return tokens\n",
    "    return None"
   ]
  },
  {
   "cell_type": "code",
   "execution_count": 5,
   "metadata": {},
   "outputs": [
    {
     "name": "stdout",
     "output_type": "stream",
     "text": [
      "восстановительный природопользование основа устойчивый развитие\n"
     ]
    }
   ],
   "source": [
    "sent = 'Восстановительное природопользование основа устойчивого развития.'\n",
    "print(preprocess_data(sent))"
   ]
  },
  {
   "cell_type": "code",
   "execution_count": 6,
   "metadata": {},
   "outputs": [],
   "source": [
    "corpus_classification['x'] = corpus_classification['x'].apply(preprocess_data)"
   ]
  },
  {
   "cell_type": "code",
   "execution_count": 7,
   "metadata": {
    "scrolled": false
   },
   "outputs": [
    {
     "data": {
      "text/html": [
       "<style  type=\"text/css\" >\n",
       "#T_5456bcf5_97c5_11eb_98e9_7085c2764c67row0_col0,#T_5456bcf5_97c5_11eb_98e9_7085c2764c67row0_col1,#T_5456bcf5_97c5_11eb_98e9_7085c2764c67row1_col0,#T_5456bcf5_97c5_11eb_98e9_7085c2764c67row1_col1,#T_5456bcf5_97c5_11eb_98e9_7085c2764c67row2_col0,#T_5456bcf5_97c5_11eb_98e9_7085c2764c67row2_col1,#T_5456bcf5_97c5_11eb_98e9_7085c2764c67row3_col0,#T_5456bcf5_97c5_11eb_98e9_7085c2764c67row3_col1,#T_5456bcf5_97c5_11eb_98e9_7085c2764c67row4_col0,#T_5456bcf5_97c5_11eb_98e9_7085c2764c67row4_col1{\n",
       "            text-align:  left;\n",
       "        }</style><table id=\"T_5456bcf5_97c5_11eb_98e9_7085c2764c67\" ><thead>    <tr>        <th class=\"blank level0\" ></th>        <th class=\"col_heading level0 col0\" >label</th>        <th class=\"col_heading level0 col1\" >x</th>    </tr></thead><tbody>\n",
       "                <tr>\n",
       "                        <th id=\"T_5456bcf5_97c5_11eb_98e9_7085c2764c67level0_row0\" class=\"row_heading level0 row0\" >0</th>\n",
       "                        <td id=\"T_5456bcf5_97c5_11eb_98e9_7085c2764c67row0_col0\" class=\"data row0 col0\" >МАТЕМАТИКА</td>\n",
       "                        <td id=\"T_5456bcf5_97c5_11eb_98e9_7085c2764c67row0_col1\" class=\"data row0 col1\" >алгоритм размещение элемент сбис</td>\n",
       "            </tr>\n",
       "            <tr>\n",
       "                        <th id=\"T_5456bcf5_97c5_11eb_98e9_7085c2764c67level0_row1\" class=\"row_heading level0 row1\" >1</th>\n",
       "                        <td id=\"T_5456bcf5_97c5_11eb_98e9_7085c2764c67row1_col0\" class=\"data row1 col0\" >БИОЛОГИЯ</td>\n",
       "                        <td id=\"T_5456bcf5_97c5_11eb_98e9_7085c2764c67row1_col1\" class=\"data row1 col1\" >восстановительный природопользование основа устойчивый развитие</td>\n",
       "            </tr>\n",
       "            <tr>\n",
       "                        <th id=\"T_5456bcf5_97c5_11eb_98e9_7085c2764c67level0_row2\" class=\"row_heading level0 row2\" >2</th>\n",
       "                        <td id=\"T_5456bcf5_97c5_11eb_98e9_7085c2764c67row2_col0\" class=\"data row2 col0\" >БИОЛОГИЯ</td>\n",
       "                        <td id=\"T_5456bcf5_97c5_11eb_98e9_7085c2764c67row2_col1\" class=\"data row2 col1\" >культура зародыш paeonia anomala l</td>\n",
       "            </tr>\n",
       "            <tr>\n",
       "                        <th id=\"T_5456bcf5_97c5_11eb_98e9_7085c2764c67level0_row3\" class=\"row_heading level0 row3\" >3</th>\n",
       "                        <td id=\"T_5456bcf5_97c5_11eb_98e9_7085c2764c67row3_col0\" class=\"data row3 col0\" >ГЕОЛОГИЯ</td>\n",
       "                        <td id=\"T_5456bcf5_97c5_11eb_98e9_7085c2764c67row3_col1\" class=\"data row3 col1\" >экологический мониторинг загазованный донный осадок</td>\n",
       "            </tr>\n",
       "            <tr>\n",
       "                        <th id=\"T_5456bcf5_97c5_11eb_98e9_7085c2764c67level0_row4\" class=\"row_heading level0 row4\" >4</th>\n",
       "                        <td id=\"T_5456bcf5_97c5_11eb_98e9_7085c2764c67row4_col0\" class=\"data row4 col0\" >БИОЛОГИЯ</td>\n",
       "                        <td id=\"T_5456bcf5_97c5_11eb_98e9_7085c2764c67row4_col1\" class=\"data row4 col1\" >ультразвуковой метод определение газонасыщение биологический объект</td>\n",
       "            </tr>\n",
       "    </tbody></table>"
      ],
      "text/plain": [
       "<pandas.io.formats.style.Styler at 0x2bbcbb996d0>"
      ]
     },
     "execution_count": 7,
     "metadata": {},
     "output_type": "execute_result"
    }
   ],
   "source": [
    "corpus_table = corpus_classification.head(5).style.set_properties(**{'text-align': 'left'}) \n",
    "corpus_table"
   ]
  },
  {
   "cell_type": "code",
   "execution_count": 8,
   "metadata": {},
   "outputs": [],
   "source": [
    "from sklearn.model_selection import train_test_split\n",
    "x = corpus_classification.x\n",
    "label = corpus_classification.label\n",
    "x_train, x_test, label_train, label_test = train_test_split(x, label, test_size=.3)"
   ]
  },
  {
   "cell_type": "code",
   "execution_count": 9,
   "metadata": {},
   "outputs": [
    {
     "name": "stdout",
     "output_type": "stream",
     "text": [
      "Точность модели после обучения на binary векторах: 0.9166666666666666\n"
     ]
    }
   ],
   "source": [
    "#binary vectorization\n",
    "from sklearn.feature_extraction.text import CountVectorizer\n",
    "from sklearn.linear_model import LogisticRegression\n",
    "from sklearn.metrics import accuracy_score\n",
    "\n",
    "binary_vectorizer = CountVectorizer(binary=True)\n",
    "binary_vectorizer.fit(x)\n",
    "binary_train = binary_vectorizer.transform(x_train)\n",
    "binary_test = binary_vectorizer.transform(x_test)\n",
    "\n",
    "binary_log_regr = LogisticRegression(solver = 'lbfgs', multi_class='auto')\n",
    "binary_log_regr.fit(binary_train, label_train)\n",
    "binary_predictions = binary_log_regr.predict(binary_test)\n",
    "print(\"Точность модели после обучения на binary векторах:\", \n",
    "      accuracy_score(label_test, binary_predictions))"
   ]
  },
  {
   "cell_type": "code",
   "execution_count": 10,
   "metadata": {},
   "outputs": [
    {
     "name": "stdout",
     "output_type": "stream",
     "text": [
      "Точность модели после обучения на frequency векторах: 0.9340796019900498\n"
     ]
    }
   ],
   "source": [
    "#frequency vectorization\n",
    "freq_vectorizer = CountVectorizer() \n",
    "freq_vectorizer.fit(x) \n",
    "freq_train = freq_vectorizer.transform(x_train)\n",
    "freq_test = freq_vectorizer.transform(x_test)\n",
    "\n",
    "freq_log_regr = LogisticRegression(solver = 'lbfgs', multi_class='auto')\n",
    "freq_log_regr.fit(freq_train, label_train)\n",
    "freq_predictions = freq_log_regr.predict(freq_test)\n",
    "print(\"Точность модели после обучения на frequency векторах:\", \n",
    "      accuracy_score(label_test, freq_predictions))"
   ]
  },
  {
   "cell_type": "code",
   "execution_count": 11,
   "metadata": {},
   "outputs": [
    {
     "name": "stdout",
     "output_type": "stream",
     "text": [
      "Точность модели после обучения на TF-IDF векторах: 0.9241293532338308\n"
     ]
    }
   ],
   "source": [
    "#TF-IDF vectorization\n",
    "from sklearn.feature_extraction.text import TfidfVectorizer\n",
    "tfidf_vectorizer = TfidfVectorizer() \n",
    "tfidf_vectorizer.fit(x) \n",
    "tfidf_train = tfidf_vectorizer.transform(x_train) \n",
    "tfidf_test = tfidf_vectorizer.transform(x_test)\n",
    "\n",
    "tfidf_log_regr = LogisticRegression(solver = 'lbfgs', multi_class='auto')\n",
    "tfidf_log_regr.fit(tfidf_train, label_train)\n",
    "tfidf_predictions = tfidf_log_regr.predict(tfidf_test)\n",
    "print(\"Точность модели после обучения на TF-IDF векторах:\", \n",
    "      accuracy_score(label_test, tfidf_predictions))"
   ]
  },
  {
   "cell_type": "code",
   "execution_count": 12,
   "metadata": {},
   "outputs": [
    {
     "name": "stdout",
     "output_type": "stream",
     "text": [
      "Введите краткое описание научной статьи: Геохимическая зональность скарново-золоторудных месторождений Западной Сибири.\n",
      "Текст 'Геохимическая зональность скарново-золоторудных месторождений Западной Сибири.' относится к теме ГЕОЛОГИЯ.\n"
     ]
    }
   ],
   "source": [
    "#Проверка работы модели предсказаний\n",
    "string = input(\"Введите краткое описание научной статьи: \")\n",
    "print(f\"Текст '{string}' относится к теме {tfidf_log_regr.predict(tfidf_vectorizer.transform([string]))[0]}.\")"
   ]
  }
 ],
 "metadata": {
  "kernelspec": {
   "display_name": "Python 3",
   "language": "python",
   "name": "python3"
  },
  "language_info": {
   "codemirror_mode": {
    "name": "ipython",
    "version": 3
   },
   "file_extension": ".py",
   "mimetype": "text/x-python",
   "name": "python",
   "nbconvert_exporter": "python",
   "pygments_lexer": "ipython3",
   "version": "3.8.5"
  }
 },
 "nbformat": 4,
 "nbformat_minor": 4
}
